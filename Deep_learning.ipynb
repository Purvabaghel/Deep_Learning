{
 "cells": [
  {
   "cell_type": "code",
   "execution_count": 27,
   "id": "1516d66a-7d15-4ccc-9c4b-920bcd01a833",
   "metadata": {},
   "outputs": [],
   "source": [
    "from tensorflow.keras.models import Sequential\n",
    "from tensorflow.keras.layers import Dense"
   ]
  },
  {
   "cell_type": "code",
   "execution_count": 28,
   "id": "699225eb-19b3-4be4-97f3-d99b5a658114",
   "metadata": {},
   "outputs": [],
   "source": [
    "import numpy as np\n",
    "import pandas as pd\n",
    "import matplotlib.pyplot as plt\n",
    "from sklearn.model_selection import train_test_split\n",
    "from sklearn.preprocessing import StandardScaler\n",
    "from tensorflow.keras.models import Sequential\n",
    "from tensorflow.keras.layers import Dense\n",
    "from warnings import filterwarnings"
   ]
  },
  {
   "cell_type": "code",
   "execution_count": 29,
   "id": "5c055297-f1e3-455a-849a-240633eecc3a",
   "metadata": {},
   "outputs": [
    {
     "data": {
      "text/html": [
       "<div>\n",
       "<style scoped>\n",
       "    .dataframe tbody tr th:only-of-type {\n",
       "        vertical-align: middle;\n",
       "    }\n",
       "\n",
       "    .dataframe tbody tr th {\n",
       "        vertical-align: top;\n",
       "    }\n",
       "\n",
       "    .dataframe thead th {\n",
       "        text-align: right;\n",
       "    }\n",
       "</style>\n",
       "<table border=\"1\" class=\"dataframe\">\n",
       "  <thead>\n",
       "    <tr style=\"text-align: right;\">\n",
       "      <th></th>\n",
       "      <th>temperature</th>\n",
       "      <th>humidity</th>\n",
       "      <th>wind_speed</th>\n",
       "      <th>solar_irradiance</th>\n",
       "      <th>energy_consumption</th>\n",
       "    </tr>\n",
       "  </thead>\n",
       "  <tbody>\n",
       "    <tr>\n",
       "      <th>0</th>\n",
       "      <td>24.363503</td>\n",
       "      <td>31.107976</td>\n",
       "      <td>5.234114</td>\n",
       "      <td>705.432695</td>\n",
       "      <td>307.398145</td>\n",
       "    </tr>\n",
       "    <tr>\n",
       "      <th>1</th>\n",
       "      <td>38.767858</td>\n",
       "      <td>52.514057</td>\n",
       "      <td>4.939576</td>\n",
       "      <td>817.013258</td>\n",
       "      <td>412.444548</td>\n",
       "    </tr>\n",
       "    <tr>\n",
       "      <th>2</th>\n",
       "      <td>33.299849</td>\n",
       "      <td>72.376750</td>\n",
       "      <td>18.125092</td>\n",
       "      <td>325.421109</td>\n",
       "      <td>392.072418</td>\n",
       "    </tr>\n",
       "    <tr>\n",
       "      <th>3</th>\n",
       "      <td>29.966462</td>\n",
       "      <td>63.933493</td>\n",
       "      <td>4.990924</td>\n",
       "      <td>662.386690</td>\n",
       "      <td>119.254957</td>\n",
       "    </tr>\n",
       "    <tr>\n",
       "      <th>4</th>\n",
       "      <td>18.900466</td>\n",
       "      <td>68.393669</td>\n",
       "      <td>5.438995</td>\n",
       "      <td>614.571385</td>\n",
       "      <td>117.162261</td>\n",
       "    </tr>\n",
       "  </tbody>\n",
       "</table>\n",
       "</div>"
      ],
      "text/plain": [
       "   temperature   humidity  wind_speed  solar_irradiance  energy_consumption\n",
       "0    24.363503  31.107976    5.234114        705.432695          307.398145\n",
       "1    38.767858  52.514057    4.939576        817.013258          412.444548\n",
       "2    33.299849  72.376750   18.125092        325.421109          392.072418\n",
       "3    29.966462  63.933493    4.990924        662.386690          119.254957\n",
       "4    18.900466  68.393669    5.438995        614.571385          117.162261"
      ]
     },
     "execution_count": 29,
     "metadata": {},
     "output_type": "execute_result"
    }
   ],
   "source": [
    "data = pd.read_excel(\"C:/Users/HP/Desktop/GreenAIWorkshop/predict_energy_consumption.xlsx\")\n",
    "data.head()"
   ]
  },
  {
   "cell_type": "code",
   "execution_count": 30,
   "id": "82bac47b-61a5-4fca-a62a-e5a74fe7d1d2",
   "metadata": {},
   "outputs": [
    {
     "data": {
      "text/plain": [
       "(1000, 5)"
      ]
     },
     "execution_count": 30,
     "metadata": {},
     "output_type": "execute_result"
    }
   ],
   "source": [
    "data.shape"
   ]
  },
  {
   "cell_type": "code",
   "execution_count": 31,
   "id": "6f8c2fbe-cc2b-423a-aee3-fc37209ef5ff",
   "metadata": {},
   "outputs": [
    {
     "name": "stdout",
     "output_type": "stream",
     "text": [
      "<class 'pandas.core.frame.DataFrame'>\n",
      "RangeIndex: 1000 entries, 0 to 999\n",
      "Data columns (total 5 columns):\n",
      " #   Column              Non-Null Count  Dtype  \n",
      "---  ------              --------------  -----  \n",
      " 0   temperature         1000 non-null   float64\n",
      " 1   humidity            1000 non-null   float64\n",
      " 2   wind_speed          1000 non-null   float64\n",
      " 3   solar_irradiance    1000 non-null   float64\n",
      " 4   energy_consumption  1000 non-null   float64\n",
      "dtypes: float64(5)\n",
      "memory usage: 39.2 KB\n"
     ]
    }
   ],
   "source": [
    "data.info()"
   ]
  },
  {
   "cell_type": "code",
   "execution_count": 32,
   "id": "84cd28fe-2ba4-4315-9717-166a36fbc2da",
   "metadata": {},
   "outputs": [
    {
     "data": {
      "text/html": [
       "<div>\n",
       "<style scoped>\n",
       "    .dataframe tbody tr th:only-of-type {\n",
       "        vertical-align: middle;\n",
       "    }\n",
       "\n",
       "    .dataframe tbody tr th {\n",
       "        vertical-align: top;\n",
       "    }\n",
       "\n",
       "    .dataframe thead th {\n",
       "        text-align: right;\n",
       "    }\n",
       "</style>\n",
       "<table border=\"1\" class=\"dataframe\">\n",
       "  <thead>\n",
       "    <tr style=\"text-align: right;\">\n",
       "      <th></th>\n",
       "      <th>temperature</th>\n",
       "      <th>humidity</th>\n",
       "      <th>wind_speed</th>\n",
       "      <th>solar_irradiance</th>\n",
       "      <th>energy_consumption</th>\n",
       "    </tr>\n",
       "  </thead>\n",
       "  <tbody>\n",
       "    <tr>\n",
       "      <th>count</th>\n",
       "      <td>1000.000000</td>\n",
       "      <td>1000.000000</td>\n",
       "      <td>1000.000000</td>\n",
       "      <td>1000.000000</td>\n",
       "      <td>1000.000000</td>\n",
       "    </tr>\n",
       "    <tr>\n",
       "      <th>mean</th>\n",
       "      <td>27.256414</td>\n",
       "      <td>50.421038</td>\n",
       "      <td>10.048115</td>\n",
       "      <td>541.337543</td>\n",
       "      <td>272.347395</td>\n",
       "    </tr>\n",
       "    <tr>\n",
       "      <th>std</th>\n",
       "      <td>7.303434</td>\n",
       "      <td>17.531394</td>\n",
       "      <td>5.813484</td>\n",
       "      <td>257.840410</td>\n",
       "      <td>129.064474</td>\n",
       "    </tr>\n",
       "    <tr>\n",
       "      <th>min</th>\n",
       "      <td>15.115801</td>\n",
       "      <td>20.193096</td>\n",
       "      <td>0.000233</td>\n",
       "      <td>100.588052</td>\n",
       "      <td>50.013823</td>\n",
       "    </tr>\n",
       "    <tr>\n",
       "      <th>25%</th>\n",
       "      <td>20.899332</td>\n",
       "      <td>34.464456</td>\n",
       "      <td>5.227020</td>\n",
       "      <td>317.710693</td>\n",
       "      <td>160.238303</td>\n",
       "    </tr>\n",
       "    <tr>\n",
       "      <th>50%</th>\n",
       "      <td>27.420184</td>\n",
       "      <td>51.124034</td>\n",
       "      <td>10.012278</td>\n",
       "      <td>535.851355</td>\n",
       "      <td>272.569144</td>\n",
       "    </tr>\n",
       "    <tr>\n",
       "      <th>75%</th>\n",
       "      <td>33.607990</td>\n",
       "      <td>65.627903</td>\n",
       "      <td>15.182071</td>\n",
       "      <td>763.786729</td>\n",
       "      <td>382.997053</td>\n",
       "    </tr>\n",
       "    <tr>\n",
       "      <th>max</th>\n",
       "      <td>39.992942</td>\n",
       "      <td>79.964824</td>\n",
       "      <td>19.956417</td>\n",
       "      <td>999.601933</td>\n",
       "      <td>498.987225</td>\n",
       "    </tr>\n",
       "  </tbody>\n",
       "</table>\n",
       "</div>"
      ],
      "text/plain": [
       "       temperature     humidity   wind_speed  solar_irradiance  \\\n",
       "count  1000.000000  1000.000000  1000.000000       1000.000000   \n",
       "mean     27.256414    50.421038    10.048115        541.337543   \n",
       "std       7.303434    17.531394     5.813484        257.840410   \n",
       "min      15.115801    20.193096     0.000233        100.588052   \n",
       "25%      20.899332    34.464456     5.227020        317.710693   \n",
       "50%      27.420184    51.124034    10.012278        535.851355   \n",
       "75%      33.607990    65.627903    15.182071        763.786729   \n",
       "max      39.992942    79.964824    19.956417        999.601933   \n",
       "\n",
       "       energy_consumption  \n",
       "count         1000.000000  \n",
       "mean           272.347395  \n",
       "std            129.064474  \n",
       "min             50.013823  \n",
       "25%            160.238303  \n",
       "50%            272.569144  \n",
       "75%            382.997053  \n",
       "max            498.987225  "
      ]
     },
     "execution_count": 32,
     "metadata": {},
     "output_type": "execute_result"
    }
   ],
   "source": [
    "data.describe(include=\"all\")"
   ]
  },
  {
   "cell_type": "code",
   "execution_count": 33,
   "id": "825c8c14-e08c-418f-adce-085fe5eb1513",
   "metadata": {},
   "outputs": [
    {
     "data": {
      "text/plain": [
       "temperature           0\n",
       "humidity              0\n",
       "wind_speed            0\n",
       "solar_irradiance      0\n",
       "energy_consumption    0\n",
       "dtype: int64"
      ]
     },
     "execution_count": 33,
     "metadata": {},
     "output_type": "execute_result"
    }
   ],
   "source": [
    "data.isnull().sum()"
   ]
  },
  {
   "cell_type": "code",
   "execution_count": 34,
   "id": "a248c087-becc-4d93-80c6-e5de1ce95d73",
   "metadata": {},
   "outputs": [
    {
     "data": {
      "text/html": [
       "<div>\n",
       "<style scoped>\n",
       "    .dataframe tbody tr th:only-of-type {\n",
       "        vertical-align: middle;\n",
       "    }\n",
       "\n",
       "    .dataframe tbody tr th {\n",
       "        vertical-align: top;\n",
       "    }\n",
       "\n",
       "    .dataframe thead th {\n",
       "        text-align: right;\n",
       "    }\n",
       "</style>\n",
       "<table border=\"1\" class=\"dataframe\">\n",
       "  <thead>\n",
       "    <tr style=\"text-align: right;\">\n",
       "      <th></th>\n",
       "      <th>temperature</th>\n",
       "      <th>humidity</th>\n",
       "      <th>wind_speed</th>\n",
       "      <th>solar_irradiance</th>\n",
       "      <th>energy_consumption</th>\n",
       "    </tr>\n",
       "  </thead>\n",
       "  <tbody>\n",
       "    <tr>\n",
       "      <th>995</th>\n",
       "      <td>17.289552</td>\n",
       "      <td>59.417309</td>\n",
       "      <td>17.305915</td>\n",
       "      <td>497.896331</td>\n",
       "      <td>453.828793</td>\n",
       "    </tr>\n",
       "    <tr>\n",
       "      <th>996</th>\n",
       "      <td>37.932839</td>\n",
       "      <td>77.396877</td>\n",
       "      <td>3.145464</td>\n",
       "      <td>400.961061</td>\n",
       "      <td>103.721455</td>\n",
       "    </tr>\n",
       "    <tr>\n",
       "      <th>997</th>\n",
       "      <td>18.420466</td>\n",
       "      <td>24.137481</td>\n",
       "      <td>6.195757</td>\n",
       "      <td>455.115084</td>\n",
       "      <td>197.529277</td>\n",
       "    </tr>\n",
       "    <tr>\n",
       "      <th>998</th>\n",
       "      <td>38.755934</td>\n",
       "      <td>23.423283</td>\n",
       "      <td>5.800911</td>\n",
       "      <td>576.946528</td>\n",
       "      <td>417.085421</td>\n",
       "    </tr>\n",
       "    <tr>\n",
       "      <th>999</th>\n",
       "      <td>26.150144</td>\n",
       "      <td>36.931224</td>\n",
       "      <td>17.428281</td>\n",
       "      <td>245.230623</td>\n",
       "      <td>318.790570</td>\n",
       "    </tr>\n",
       "  </tbody>\n",
       "</table>\n",
       "</div>"
      ],
      "text/plain": [
       "     temperature   humidity  wind_speed  solar_irradiance  energy_consumption\n",
       "995    17.289552  59.417309   17.305915        497.896331          453.828793\n",
       "996    37.932839  77.396877    3.145464        400.961061          103.721455\n",
       "997    18.420466  24.137481    6.195757        455.115084          197.529277\n",
       "998    38.755934  23.423283    5.800911        576.946528          417.085421\n",
       "999    26.150144  36.931224   17.428281        245.230623          318.790570"
      ]
     },
     "execution_count": 34,
     "metadata": {},
     "output_type": "execute_result"
    }
   ],
   "source": [
    "data.tail()"
   ]
  },
  {
   "cell_type": "code",
   "execution_count": 35,
   "id": "16f86e1e-a920-4c24-a74c-f7c78f7397cd",
   "metadata": {},
   "outputs": [
    {
     "data": {
      "text/plain": [
       "[RangeIndex(start=0, stop=1000, step=1),\n",
       " Index(['temperature', 'humidity', 'wind_speed', 'solar_irradiance',\n",
       "        'energy_consumption'],\n",
       "       dtype='object')]"
      ]
     },
     "execution_count": 35,
     "metadata": {},
     "output_type": "execute_result"
    }
   ],
   "source": [
    "data.axes"
   ]
  },
  {
   "cell_type": "code",
   "execution_count": 36,
   "id": "eb84e94e-ec0f-468b-85b2-487a4ed45b77",
   "metadata": {},
   "outputs": [
    {
     "data": {
      "text/plain": [
       "Index(['temperature', 'humidity', 'wind_speed', 'solar_irradiance',\n",
       "       'energy_consumption'],\n",
       "      dtype='object')"
      ]
     },
     "execution_count": 36,
     "metadata": {},
     "output_type": "execute_result"
    }
   ],
   "source": [
    "data.columns"
   ]
  },
  {
   "cell_type": "code",
   "execution_count": 37,
   "id": "2f316c3b-9027-434f-93ea-e384cd4980d7",
   "metadata": {},
   "outputs": [],
   "source": [
    "x=data[['temperature', 'humidity', 'wind_speed', 'solar_irradiance']].values\n",
    "y=data['energy_consumption'].values"
   ]
  },
  {
   "cell_type": "code",
   "execution_count": 38,
   "id": "4189c169-1a3c-4b58-b248-bd21fa3de08f",
   "metadata": {},
   "outputs": [],
   "source": [
    "x_train,x_test,y_train,y_test=train_test_split(x,y,test_size=0.2,random_state=42)"
   ]
  },
  {
   "cell_type": "code",
   "execution_count": 39,
   "id": "8bf23fe1-692b-4da8-8162-f7dc90ebf85e",
   "metadata": {},
   "outputs": [],
   "source": [
    "scaler = StandardScaler()\n",
    "x_train=scaler.fit_transform(x_train)\n",
    "x_test=scaler.transform(x_test)"
   ]
  },
  {
   "cell_type": "code",
   "execution_count": 41,
   "id": "d5460c92-a44f-45e3-a69d-22faf0b60739",
   "metadata": {},
   "outputs": [],
   "source": [
    "model = Sequential([\n",
    "    Dense(64, activation='relu',input_shape=(x_train.shape[1],)),\n",
    "    Dense(32,activation='relu'),\n",
    "    Dense(1)\n",
    "])"
   ]
  },
  {
   "cell_type": "code",
   "execution_count": 42,
   "id": "83a7ce83-be29-4a45-b707-215cfd90ff0a",
   "metadata": {},
   "outputs": [],
   "source": [
    "model.compile(optimizer='adam',loss='mse',metrics=['mae'])"
   ]
  },
  {
   "cell_type": "code",
   "execution_count": 43,
   "id": "d747689d-4d76-4af7-87eb-f5bcd11757a4",
   "metadata": {},
   "outputs": [
    {
     "name": "stdout",
     "output_type": "stream",
     "text": [
      "Epoch 1/50\n",
      "\u001b[1m20/20\u001b[0m \u001b[32m━━━━━━━━━━━━━━━━━━━━\u001b[0m\u001b[37m\u001b[0m \u001b[1m1s\u001b[0m 10ms/step - loss: 89200.7188 - mae: 269.8612 - val_loss: 83408.5781 - val_mae: 258.4510\n",
      "Epoch 2/50\n",
      "\u001b[1m20/20\u001b[0m \u001b[32m━━━━━━━━━━━━━━━━━━━━\u001b[0m\u001b[37m\u001b[0m \u001b[1m0s\u001b[0m 4ms/step - loss: 89204.6641 - mae: 270.9510 - val_loss: 82623.7656 - val_mae: 256.9153\n",
      "Epoch 3/50\n",
      "\u001b[1m20/20\u001b[0m \u001b[32m━━━━━━━━━━━━━━━━━━━━\u001b[0m\u001b[37m\u001b[0m \u001b[1m0s\u001b[0m 4ms/step - loss: 90708.5547 - mae: 273.1941 - val_loss: 81290.6719 - val_mae: 254.2941\n",
      "Epoch 4/50\n",
      "\u001b[1m20/20\u001b[0m \u001b[32m━━━━━━━━━━━━━━━━━━━━\u001b[0m\u001b[37m\u001b[0m \u001b[1m0s\u001b[0m 4ms/step - loss: 85432.3906 - mae: 262.8172 - val_loss: 79158.7031 - val_mae: 250.0409\n",
      "Epoch 5/50\n",
      "\u001b[1m20/20\u001b[0m \u001b[32m━━━━━━━━━━━━━━━━━━━━\u001b[0m\u001b[37m\u001b[0m \u001b[1m0s\u001b[0m 4ms/step - loss: 86920.4766 - mae: 265.5261 - val_loss: 75998.4375 - val_mae: 243.6019\n",
      "Epoch 6/50\n",
      "\u001b[1m20/20\u001b[0m \u001b[32m━━━━━━━━━━━━━━━━━━━━\u001b[0m\u001b[37m\u001b[0m \u001b[1m0s\u001b[0m 4ms/step - loss: 80367.9453 - mae: 253.4972 - val_loss: 71650.6406 - val_mae: 234.4373\n",
      "Epoch 7/50\n",
      "\u001b[1m20/20\u001b[0m \u001b[32m━━━━━━━━━━━━━━━━━━━━\u001b[0m\u001b[37m\u001b[0m \u001b[1m0s\u001b[0m 4ms/step - loss: 75574.8984 - mae: 243.3991 - val_loss: 65974.8906 - val_mae: 221.8992\n",
      "Epoch 8/50\n",
      "\u001b[1m20/20\u001b[0m \u001b[32m━━━━━━━━━━━━━━━━━━━━\u001b[0m\u001b[37m\u001b[0m \u001b[1m0s\u001b[0m 4ms/step - loss: 73045.9062 - mae: 236.0619 - val_loss: 59116.5820 - val_mae: 206.1078\n",
      "Epoch 9/50\n",
      "\u001b[1m20/20\u001b[0m \u001b[32m━━━━━━━━━━━━━━━━━━━━\u001b[0m\u001b[37m\u001b[0m \u001b[1m0s\u001b[0m 4ms/step - loss: 62700.1914 - mae: 213.6779 - val_loss: 51368.2539 - val_mae: 187.7317\n",
      "Epoch 10/50\n",
      "\u001b[1m20/20\u001b[0m \u001b[32m━━━━━━━━━━━━━━━━━━━━\u001b[0m\u001b[37m\u001b[0m \u001b[1m0s\u001b[0m 4ms/step - loss: 55591.8320 - mae: 199.7120 - val_loss: 43135.7773 - val_mae: 168.8802\n",
      "Epoch 11/50\n",
      "\u001b[1m20/20\u001b[0m \u001b[32m━━━━━━━━━━━━━━━━━━━━\u001b[0m\u001b[37m\u001b[0m \u001b[1m0s\u001b[0m 3ms/step - loss: 46836.2461 - mae: 179.4270 - val_loss: 35367.5508 - val_mae: 151.1282\n",
      "Epoch 12/50\n",
      "\u001b[1m20/20\u001b[0m \u001b[32m━━━━━━━━━━━━━━━━━━━━\u001b[0m\u001b[37m\u001b[0m \u001b[1m0s\u001b[0m 4ms/step - loss: 34857.9023 - mae: 153.0484 - val_loss: 28673.8555 - val_mae: 135.9004\n",
      "Epoch 13/50\n",
      "\u001b[1m20/20\u001b[0m \u001b[32m━━━━━━━━━━━━━━━━━━━━\u001b[0m\u001b[37m\u001b[0m \u001b[1m0s\u001b[0m 3ms/step - loss: 30237.6211 - mae: 142.2613 - val_loss: 23619.3477 - val_mae: 124.4322\n",
      "Epoch 14/50\n",
      "\u001b[1m20/20\u001b[0m \u001b[32m━━━━━━━━━━━━━━━━━━━━\u001b[0m\u001b[37m\u001b[0m \u001b[1m0s\u001b[0m 4ms/step - loss: 24819.2051 - mae: 128.5663 - val_loss: 20466.9160 - val_mae: 117.9165\n",
      "Epoch 15/50\n",
      "\u001b[1m20/20\u001b[0m \u001b[32m━━━━━━━━━━━━━━━━━━━━\u001b[0m\u001b[37m\u001b[0m \u001b[1m0s\u001b[0m 4ms/step - loss: 20901.1191 - mae: 121.0948 - val_loss: 18906.4609 - val_mae: 115.5064\n",
      "Epoch 16/50\n",
      "\u001b[1m20/20\u001b[0m \u001b[32m━━━━━━━━━━━━━━━━━━━━\u001b[0m\u001b[37m\u001b[0m \u001b[1m0s\u001b[0m 4ms/step - loss: 19226.4766 - mae: 117.9672 - val_loss: 18355.4902 - val_mae: 114.9982\n",
      "Epoch 17/50\n",
      "\u001b[1m20/20\u001b[0m \u001b[32m━━━━━━━━━━━━━━━━━━━━\u001b[0m\u001b[37m\u001b[0m \u001b[1m0s\u001b[0m 3ms/step - loss: 18385.5234 - mae: 117.0587 - val_loss: 18232.9023 - val_mae: 115.3805\n",
      "Epoch 18/50\n",
      "\u001b[1m20/20\u001b[0m \u001b[32m━━━━━━━━━━━━━━━━━━━━\u001b[0m\u001b[37m\u001b[0m \u001b[1m0s\u001b[0m 4ms/step - loss: 17596.0996 - mae: 114.1049 - val_loss: 18269.7246 - val_mae: 115.7469\n",
      "Epoch 19/50\n",
      "\u001b[1m20/20\u001b[0m \u001b[32m━━━━━━━━━━━━━━━━━━━━\u001b[0m\u001b[37m\u001b[0m \u001b[1m0s\u001b[0m 4ms/step - loss: 17543.2207 - mae: 115.4234 - val_loss: 18335.6973 - val_mae: 116.1177\n",
      "Epoch 20/50\n",
      "\u001b[1m20/20\u001b[0m \u001b[32m━━━━━━━━━━━━━━━━━━━━\u001b[0m\u001b[37m\u001b[0m \u001b[1m0s\u001b[0m 3ms/step - loss: 18507.6777 - mae: 118.1196 - val_loss: 18349.1914 - val_mae: 116.1378\n",
      "Epoch 21/50\n",
      "\u001b[1m20/20\u001b[0m \u001b[32m━━━━━━━━━━━━━━━━━━━━\u001b[0m\u001b[37m\u001b[0m \u001b[1m0s\u001b[0m 4ms/step - loss: 16945.9492 - mae: 113.6341 - val_loss: 18326.6875 - val_mae: 116.1446\n",
      "Epoch 22/50\n",
      "\u001b[1m20/20\u001b[0m \u001b[32m━━━━━━━━━━━━━━━━━━━━\u001b[0m\u001b[37m\u001b[0m \u001b[1m0s\u001b[0m 4ms/step - loss: 16570.0977 - mae: 110.9113 - val_loss: 18325.1699 - val_mae: 116.1602\n",
      "Epoch 23/50\n",
      "\u001b[1m20/20\u001b[0m \u001b[32m━━━━━━━━━━━━━━━━━━━━\u001b[0m\u001b[37m\u001b[0m \u001b[1m0s\u001b[0m 4ms/step - loss: 17149.8711 - mae: 114.2675 - val_loss: 18331.3359 - val_mae: 116.3376\n",
      "Epoch 24/50\n",
      "\u001b[1m20/20\u001b[0m \u001b[32m━━━━━━━━━━━━━━━━━━━━\u001b[0m\u001b[37m\u001b[0m \u001b[1m0s\u001b[0m 4ms/step - loss: 16222.8340 - mae: 109.5420 - val_loss: 18368.1855 - val_mae: 116.4705\n",
      "Epoch 25/50\n",
      "\u001b[1m20/20\u001b[0m \u001b[32m━━━━━━━━━━━━━━━━━━━━\u001b[0m\u001b[37m\u001b[0m \u001b[1m0s\u001b[0m 4ms/step - loss: 17107.4414 - mae: 113.6910 - val_loss: 18363.1270 - val_mae: 116.4181\n",
      "Epoch 26/50\n",
      "\u001b[1m20/20\u001b[0m \u001b[32m━━━━━━━━━━━━━━━━━━━━\u001b[0m\u001b[37m\u001b[0m \u001b[1m0s\u001b[0m 4ms/step - loss: 16260.8672 - mae: 109.8431 - val_loss: 18309.3145 - val_mae: 116.2464\n",
      "Epoch 27/50\n",
      "\u001b[1m20/20\u001b[0m \u001b[32m━━━━━━━━━━━━━━━━━━━━\u001b[0m\u001b[37m\u001b[0m \u001b[1m0s\u001b[0m 4ms/step - loss: 17159.1660 - mae: 114.6991 - val_loss: 18274.3477 - val_mae: 116.1929\n",
      "Epoch 28/50\n",
      "\u001b[1m20/20\u001b[0m \u001b[32m━━━━━━━━━━━━━━━━━━━━\u001b[0m\u001b[37m\u001b[0m \u001b[1m0s\u001b[0m 5ms/step - loss: 17504.7500 - mae: 114.6374 - val_loss: 18332.7559 - val_mae: 116.3548\n",
      "Epoch 29/50\n",
      "\u001b[1m20/20\u001b[0m \u001b[32m━━━━━━━━━━━━━━━━━━━━\u001b[0m\u001b[37m\u001b[0m \u001b[1m0s\u001b[0m 4ms/step - loss: 16867.3008 - mae: 112.5148 - val_loss: 18291.3828 - val_mae: 116.2257\n",
      "Epoch 30/50\n",
      "\u001b[1m20/20\u001b[0m \u001b[32m━━━━━━━━━━━━━━━━━━━━\u001b[0m\u001b[37m\u001b[0m \u001b[1m0s\u001b[0m 4ms/step - loss: 16846.0488 - mae: 113.0411 - val_loss: 18321.0312 - val_mae: 116.3478\n",
      "Epoch 31/50\n",
      "\u001b[1m20/20\u001b[0m \u001b[32m━━━━━━━━━━━━━━━━━━━━\u001b[0m\u001b[37m\u001b[0m \u001b[1m0s\u001b[0m 4ms/step - loss: 16231.7744 - mae: 110.3291 - val_loss: 18350.0430 - val_mae: 116.4205\n",
      "Epoch 32/50\n",
      "\u001b[1m20/20\u001b[0m \u001b[32m━━━━━━━━━━━━━━━━━━━━\u001b[0m\u001b[37m\u001b[0m \u001b[1m0s\u001b[0m 4ms/step - loss: 17809.4258 - mae: 115.9665 - val_loss: 18298.6016 - val_mae: 116.2465\n",
      "Epoch 33/50\n",
      "\u001b[1m20/20\u001b[0m \u001b[32m━━━━━━━━━━━━━━━━━━━━\u001b[0m\u001b[37m\u001b[0m \u001b[1m0s\u001b[0m 4ms/step - loss: 17730.0605 - mae: 115.6860 - val_loss: 18269.5254 - val_mae: 116.2137\n",
      "Epoch 34/50\n",
      "\u001b[1m20/20\u001b[0m \u001b[32m━━━━━━━━━━━━━━━━━━━━\u001b[0m\u001b[37m\u001b[0m \u001b[1m0s\u001b[0m 4ms/step - loss: 17448.4531 - mae: 115.0469 - val_loss: 18240.2715 - val_mae: 116.1431\n",
      "Epoch 35/50\n",
      "\u001b[1m20/20\u001b[0m \u001b[32m━━━━━━━━━━━━━━━━━━━━\u001b[0m\u001b[37m\u001b[0m \u001b[1m0s\u001b[0m 4ms/step - loss: 17274.1016 - mae: 114.7917 - val_loss: 18277.9375 - val_mae: 116.2642\n",
      "Epoch 36/50\n",
      "\u001b[1m20/20\u001b[0m \u001b[32m━━━━━━━━━━━━━━━━━━━━\u001b[0m\u001b[37m\u001b[0m \u001b[1m0s\u001b[0m 4ms/step - loss: 16378.5713 - mae: 110.6055 - val_loss: 18283.9395 - val_mae: 116.2599\n",
      "Epoch 37/50\n",
      "\u001b[1m20/20\u001b[0m \u001b[32m━━━━━━━━━━━━━━━━━━━━\u001b[0m\u001b[37m\u001b[0m \u001b[1m0s\u001b[0m 4ms/step - loss: 16612.3438 - mae: 110.6673 - val_loss: 18292.4902 - val_mae: 116.2949\n",
      "Epoch 38/50\n",
      "\u001b[1m20/20\u001b[0m \u001b[32m━━━━━━━━━━━━━━━━━━━━\u001b[0m\u001b[37m\u001b[0m \u001b[1m0s\u001b[0m 4ms/step - loss: 17115.4570 - mae: 114.0104 - val_loss: 18254.8633 - val_mae: 116.1256\n",
      "Epoch 39/50\n",
      "\u001b[1m20/20\u001b[0m \u001b[32m━━━━━━━━━━━━━━━━━━━━\u001b[0m\u001b[37m\u001b[0m \u001b[1m0s\u001b[0m 4ms/step - loss: 16173.4111 - mae: 109.6314 - val_loss: 18258.8164 - val_mae: 116.1842\n",
      "Epoch 40/50\n",
      "\u001b[1m20/20\u001b[0m \u001b[32m━━━━━━━━━━━━━━━━━━━━\u001b[0m\u001b[37m\u001b[0m \u001b[1m0s\u001b[0m 4ms/step - loss: 17373.2461 - mae: 115.0280 - val_loss: 18274.3496 - val_mae: 116.2605\n",
      "Epoch 41/50\n",
      "\u001b[1m20/20\u001b[0m \u001b[32m━━━━━━━━━━━━━━━━━━━━\u001b[0m\u001b[37m\u001b[0m \u001b[1m0s\u001b[0m 4ms/step - loss: 17153.7051 - mae: 113.5047 - val_loss: 18239.5039 - val_mae: 116.1678\n",
      "Epoch 42/50\n",
      "\u001b[1m20/20\u001b[0m \u001b[32m━━━━━━━━━━━━━━━━━━━━\u001b[0m\u001b[37m\u001b[0m \u001b[1m0s\u001b[0m 4ms/step - loss: 16700.9434 - mae: 111.2646 - val_loss: 18259.2461 - val_mae: 116.2917\n",
      "Epoch 43/50\n",
      "\u001b[1m20/20\u001b[0m \u001b[32m━━━━━━━━━━━━━━━━━━━━\u001b[0m\u001b[37m\u001b[0m \u001b[1m0s\u001b[0m 5ms/step - loss: 17603.3379 - mae: 115.8898 - val_loss: 18310.4492 - val_mae: 116.5076\n",
      "Epoch 44/50\n",
      "\u001b[1m20/20\u001b[0m \u001b[32m━━━━━━━━━━━━━━━━━━━━\u001b[0m\u001b[37m\u001b[0m \u001b[1m0s\u001b[0m 4ms/step - loss: 16566.6543 - mae: 111.4529 - val_loss: 18217.4648 - val_mae: 116.1318\n",
      "Epoch 45/50\n",
      "\u001b[1m20/20\u001b[0m \u001b[32m━━━━━━━━━━━━━━━━━━━━\u001b[0m\u001b[37m\u001b[0m \u001b[1m0s\u001b[0m 4ms/step - loss: 17008.3164 - mae: 114.1264 - val_loss: 18164.8633 - val_mae: 115.9645\n",
      "Epoch 46/50\n",
      "\u001b[1m20/20\u001b[0m \u001b[32m━━━━━━━━━━━━━━━━━━━━\u001b[0m\u001b[37m\u001b[0m \u001b[1m0s\u001b[0m 4ms/step - loss: 17421.1914 - mae: 114.5511 - val_loss: 18223.7285 - val_mae: 116.1947\n",
      "Epoch 47/50\n",
      "\u001b[1m20/20\u001b[0m \u001b[32m━━━━━━━━━━━━━━━━━━━━\u001b[0m\u001b[37m\u001b[0m \u001b[1m0s\u001b[0m 4ms/step - loss: 16079.0898 - mae: 108.5350 - val_loss: 18273.5312 - val_mae: 116.3279\n",
      "Epoch 48/50\n",
      "\u001b[1m20/20\u001b[0m \u001b[32m━━━━━━━━━━━━━━━━━━━━\u001b[0m\u001b[37m\u001b[0m \u001b[1m0s\u001b[0m 4ms/step - loss: 17003.7383 - mae: 114.3472 - val_loss: 18228.2754 - val_mae: 116.1598\n",
      "Epoch 49/50\n",
      "\u001b[1m20/20\u001b[0m \u001b[32m━━━━━━━━━━━━━━━━━━━━\u001b[0m\u001b[37m\u001b[0m \u001b[1m0s\u001b[0m 4ms/step - loss: 16509.1973 - mae: 109.7455 - val_loss: 18232.5801 - val_mae: 116.1145\n",
      "Epoch 50/50\n",
      "\u001b[1m20/20\u001b[0m \u001b[32m━━━━━━━━━━━━━━━━━━━━\u001b[0m\u001b[37m\u001b[0m \u001b[1m0s\u001b[0m 3ms/step - loss: 16651.5703 - mae: 111.9799 - val_loss: 18169.8516 - val_mae: 116.0228\n"
     ]
    }
   ],
   "source": [
    "history = model.fit(x_train,y_train,epochs=50,batch_size=32,validation_split=0.2,verbose=1)"
   ]
  },
  {
   "cell_type": "code",
   "execution_count": 44,
   "id": "22b104c5-a13f-4815-8646-c62fe53c9dae",
   "metadata": {},
   "outputs": [
    {
     "name": "stdout",
     "output_type": "stream",
     "text": [
      "\u001b[1m7/7\u001b[0m \u001b[32m━━━━━━━━━━━━━━━━━━━━\u001b[0m\u001b[37m\u001b[0m \u001b[1m0s\u001b[0m 4ms/step - loss: 17881.7168 - mae: 114.9306 \n",
      "Test Mean Absolute Error: 115.47\n"
     ]
    }
   ],
   "source": [
    "test_loss,test_mae=model.evaluate(x_test,y_test,verbose=1)\n",
    "print(f\"Test Mean Absolute Error: {test_mae:.2f}\")"
   ]
  },
  {
   "cell_type": "code",
   "execution_count": 45,
   "id": "cddd9d8f-fdd1-4cce-bf99-cb1a3c20f718",
   "metadata": {},
   "outputs": [
    {
     "data": {
      "image/png": "[encoded data removed]",
      "text/plain": [
       "<Figure size 640x480 with 1 Axes>"
      ]
     },
     "metadata": {},
     "output_type": "display_data"
    }
   ],
   "source": [
    "plt.plot(history.history['loss'],label='Training Loss')\n",
    "plt.plot(history.history['val_loss'],label='Validation Loss')\n",
    "plt.xlabel('Epochs')\n",
    "plt.ylabel('Loss')\n",
    "plt.title('Model training Performance')\n",
    "plt.legend()\n",
    "plt.show()"
   ]
  },
  {
   "cell_type": "code",
   "execution_count": 46,
   "id": "1975af00-5e6c-4d7f-88b9-cad04bb14d10",
   "metadata": {},
   "outputs": [
    {
     "name": "stdout",
     "output_type": "stream",
     "text": [
      "\u001b[1m7/7\u001b[0m \u001b[32m━━━━━━━━━━━━━━━━━━━━\u001b[0m\u001b[37m\u001b[0m \u001b[1m0s\u001b[0m 6ms/step \n"
     ]
    },
    {
     "data": {
      "text/plain": [
       "array([[288.0658 ],\n",
       "       [253.52528],\n",
       "       [256.61633],\n",
       "       [209.0637 ],\n",
       "       [336.93286],\n",
       "       [312.13715],\n",
       "       [314.4145 ],\n",
       "       [293.03934],\n",
       "       [298.01852],\n",
       "       [280.27567],\n",
       "       [240.574  ],\n",
       "       [264.38672],\n",
       "       [272.92218],\n",
       "       [233.83734],\n",
       "       [292.97543],\n",
       "       [321.95218],\n",
       "       [259.48386],\n",
       "       [317.4898 ],\n",
       "       [304.9732 ],\n",
       "       [243.68877],\n",
       "       [273.882  ],\n",
       "       [281.35846],\n",
       "       [267.62292],\n",
       "       [272.68292],\n",
       "       [249.36676],\n",
       "       [243.39696],\n",
       "       [258.62582],\n",
       "       [314.96106],\n",
       "       [321.36682],\n",
       "       [270.9783 ],\n",
       "       [233.09326],\n",
       "       [315.0023 ],\n",
       "       [292.10016],\n",
       "       [260.8675 ],\n",
       "       [305.00198],\n",
       "       [291.48425],\n",
       "       [214.72453],\n",
       "       [261.79083],\n",
       "       [277.89984],\n",
       "       [241.05768],\n",
       "       [239.12814],\n",
       "       [251.67438],\n",
       "       [253.2504 ],\n",
       "       [261.99777],\n",
       "       [273.37698],\n",
       "       [256.11176],\n",
       "       [264.68298],\n",
       "       [253.2594 ],\n",
       "       [297.52652],\n",
       "       [292.8427 ],\n",
       "       [219.85829],\n",
       "       [264.6566 ],\n",
       "       [256.447  ],\n",
       "       [214.61052],\n",
       "       [316.5383 ],\n",
       "       [290.15637],\n",
       "       [250.66385],\n",
       "       [280.80133],\n",
       "       [265.2918 ],\n",
       "       [291.91968],\n",
       "       [262.6597 ],\n",
       "       [283.10303],\n",
       "       [270.08002],\n",
       "       [313.11188],\n",
       "       [309.15997],\n",
       "       [267.78534],\n",
       "       [306.7434 ],\n",
       "       [249.39236],\n",
       "       [239.57611],\n",
       "       [230.07126],\n",
       "       [308.956  ],\n",
       "       [257.07593],\n",
       "       [285.06577],\n",
       "       [260.22662],\n",
       "       [260.49063],\n",
       "       [284.00513],\n",
       "       [232.47891],\n",
       "       [218.0513 ],\n",
       "       [267.0336 ],\n",
       "       [268.81476],\n",
       "       [243.07071],\n",
       "       [300.299  ],\n",
       "       [247.03986],\n",
       "       [291.21307],\n",
       "       [247.71492],\n",
       "       [252.1599 ],\n",
       "       [302.35895],\n",
       "       [298.41052],\n",
       "       [216.7684 ],\n",
       "       [287.28183],\n",
       "       [321.01807],\n",
       "       [258.71747],\n",
       "       [288.04297],\n",
       "       [244.68384],\n",
       "       [231.4473 ],\n",
       "       [260.1557 ],\n",
       "       [266.7709 ],\n",
       "       [284.0042 ],\n",
       "       [201.7222 ],\n",
       "       [252.7236 ],\n",
       "       [282.20364],\n",
       "       [263.0442 ],\n",
       "       [260.42062],\n",
       "       [270.095  ],\n",
       "       [218.43597],\n",
       "       [271.3785 ],\n",
       "       [326.36157],\n",
       "       [293.98712],\n",
       "       [266.73914],\n",
       "       [271.78925],\n",
       "       [344.2151 ],\n",
       "       [257.68848],\n",
       "       [294.7812 ],\n",
       "       [218.31616],\n",
       "       [265.79462],\n",
       "       [264.58508],\n",
       "       [233.97025],\n",
       "       [282.4332 ],\n",
       "       [252.49248],\n",
       "       [336.13788],\n",
       "       [247.7662 ],\n",
       "       [283.67297],\n",
       "       [205.28769],\n",
       "       [255.13904],\n",
       "       [283.98602],\n",
       "       [238.13324],\n",
       "       [221.54309],\n",
       "       [285.8399 ],\n",
       "       [244.61453],\n",
       "       [277.62518],\n",
       "       [327.9527 ],\n",
       "       [264.3566 ],\n",
       "       [302.641  ],\n",
       "       [275.56696],\n",
       "       [278.8051 ],\n",
       "       [268.97308],\n",
       "       [273.5257 ],\n",
       "       [265.40112],\n",
       "       [248.26526],\n",
       "       [281.84283],\n",
       "       [281.60464],\n",
       "       [319.9912 ],\n",
       "       [265.7867 ],\n",
       "       [252.59448],\n",
       "       [223.80493],\n",
       "       [253.23358],\n",
       "       [268.58258],\n",
       "       [295.69107],\n",
       "       [226.30049],\n",
       "       [295.13318],\n",
       "       [217.11594],\n",
       "       [276.24756],\n",
       "       [287.1165 ],\n",
       "       [295.7787 ],\n",
       "       [231.00092],\n",
       "       [254.84787],\n",
       "       [253.15164],\n",
       "       [234.64227],\n",
       "       [301.91537],\n",
       "       [300.07233],\n",
       "       [216.47595],\n",
       "       [259.398  ],\n",
       "       [247.76631],\n",
       "       [261.81378],\n",
       "       [252.53076],\n",
       "       [302.39343],\n",
       "       [257.36398],\n",
       "       [291.26215],\n",
       "       [297.01086],\n",
       "       [235.32204],\n",
       "       [244.9964 ],\n",
       "       [220.2431 ],\n",
       "       [273.66107],\n",
       "       [269.80157],\n",
       "       [243.90573],\n",
       "       [223.88318],\n",
       "       [271.604  ],\n",
       "       [259.9815 ],\n",
       "       [260.24603],\n",
       "       [257.07245],\n",
       "       [203.59134],\n",
       "       [246.00314],\n",
       "       [284.0443 ],\n",
       "       [257.3296 ],\n",
       "       [211.80167],\n",
       "       [219.74118],\n",
       "       [314.59125],\n",
       "       [261.9944 ],\n",
       "       [278.9041 ],\n",
       "       [255.86313],\n",
       "       [284.01376],\n",
       "       [282.85446],\n",
       "       [240.22827],\n",
       "       [260.64343],\n",
       "       [287.7594 ],\n",
       "       [296.0158 ],\n",
       "       [279.41632],\n",
       "       [255.39961],\n",
       "       [256.38858],\n",
       "       [291.88086]], dtype=float32)"
      ]
     },
     "execution_count": 46,
     "metadata": {},
     "output_type": "execute_result"
    }
   ],
   "source": [
    "predictions = model.predict(x_test)\n",
    "predictions"
   ]
  },
  {
   "cell_type": "code",
   "execution_count": 47,
   "id": "8d6f71f5-33c7-4587-a45a-d60299d6e8a9",
   "metadata": {},
   "outputs": [
    {
     "data": {
      "image/png": "[encoded data removed]",
      "text/plain": [
       "<Figure size 640x480 with 1 Axes>"
      ]
     },
     "metadata": {},
     "output_type": "display_data"
    }
   ],
   "source": [
    "plt.scatter(y_test,predictions)\n",
    "plt.xlabel('True Energy Consumption')\n",
    "plt.ylabel('Predicted Energy Consumption')\n",
    "plt.title('Predicttions vs True Values')\n",
    "plt.show()"
   ]
  },
  {
   "cell_type": "code",
   "execution_count": null,
   "id": "5cf667b7-68ac-4e6c-ad62-67c561ae0ea8",
   "metadata": {},
   "outputs": [],
   "source": []
  }
 ],
 "metadata": {
  "kernelspec": {
   "display_name": "Python 3 (ipykernel)",
   "language": "python",
   "name": "python3"
  },
  "language_info": {
   "codemirror_mode": {
    "name": "ipython",
    "version": 3
   },
   "file_extension": ".py",
   "mimetype": "text/x-python",
   "name": "python",
   "nbconvert_exporter": "python",
   "pygments_lexer": "ipython3",
   "version": "3.11.9"
  }
 },
 "nbformat": 4,
 "nbformat_minor": 5
}
